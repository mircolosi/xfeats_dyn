{
 "cells": [
  {
   "cell_type": "code",
   "execution_count": 1,
   "metadata": {},
   "outputs": [],
   "source": [
    "%load_ext autoreload\n",
    "%autoreload 2"
   ]
  },
  {
   "cell_type": "code",
   "execution_count": 2,
   "metadata": {},
   "outputs": [],
   "source": [
    "import os\n",
    "os.chdir('/home/com2rng/kaggle/xfeats_dyn')"
   ]
  },
  {
   "cell_type": "code",
   "execution_count": 3,
   "metadata": {},
   "outputs": [
    {
     "name": "stdout",
     "output_type": "stream",
     "text": [
      "Using cuda device\n"
     ]
    }
   ],
   "source": [
    "import torch\n",
    "device = (\n",
    "    \"cuda\"\n",
    "    if torch.cuda.is_available()\n",
    "    else \"mps\"\n",
    "    if torch.backends.mps.is_available()\n",
    "    else \"cpu\"\n",
    ")\n",
    "print(f\"Using {device} device\")\n"
   ]
  },
  {
   "cell_type": "code",
   "execution_count": 4,
   "metadata": {},
   "outputs": [
    {
     "name": "stderr",
     "output_type": "stream",
     "text": [
      "\u001b[32m2025-01-27 14:52:16.044\u001b[0m | \u001b[1mINFO    \u001b[0m | \u001b[36mxfeats_dyn.config\u001b[0m:\u001b[36m<module>\u001b[0m:\u001b[36m11\u001b[0m - \u001b[1mPROJ_ROOT path is: /home/com2rng/kaggle/xfeats_dyn\u001b[0m\n"
     ]
    }
   ],
   "source": [
    "from xfeats_dyn.dataset import Coco2017DataModule\n",
    "from xfeats_dyn.modeling.model import XFeatsDynModule\n",
    "\n",
    "datamodule = Coco2017DataModule(batch_size=1)\n"
   ]
  },
  {
   "cell_type": "code",
   "execution_count": 5,
   "metadata": {},
   "outputs": [],
   "source": [
    "learning_rate = 3e-4\n",
    "num_epochs = 10\n",
    "torch.set_float32_matmul_precision('medium')\n"
   ]
  },
  {
   "cell_type": "code",
   "execution_count": null,
   "metadata": {},
   "outputs": [
    {
     "name": "stderr",
     "output_type": "stream",
     "text": [
      "Using cache found in /home/com2rng/.cache/torch/hub/verlab_accelerated_features_main\n",
      "GPU available: True (cuda), used: True\n",
      "TPU available: False, using: 0 TPU cores\n",
      "HPU available: False, using: 0 HPUs\n",
      "`Trainer(overfit_batches=1)` was configured so 1 batch will be used.\n",
      "2025-01-27 14:55:12.544408: E external/local_xla/xla/stream_executor/cuda/cuda_fft.cc:477] Unable to register cuFFT factory: Attempting to register factory for plugin cuFFT when one has already been registered\n",
      "WARNING: All log messages before absl::InitializeLog() is called are written to STDERR\n",
      "E0000 00:00:1737986112.630512 3153769 cuda_dnn.cc:8310] Unable to register cuDNN factory: Attempting to register factory for plugin cuDNN when one has already been registered\n",
      "E0000 00:00:1737986112.660007 3153769 cuda_blas.cc:1418] Unable to register cuBLAS factory: Attempting to register factory for plugin cuBLAS when one has already been registered\n",
      "2025-01-27 14:55:12.831888: I tensorflow/core/platform/cpu_feature_guard.cc:210] This TensorFlow binary is optimized to use available CPU instructions in performance-critical operations.\n",
      "To enable the following instructions: AVX2 AVX512F FMA, in other operations, rebuild TensorFlow with the appropriate compiler flags.\n"
     ]
    },
    {
     "name": "stdout",
     "output_type": "stream",
     "text": [
      "Setting up stage fit...\n"
     ]
    }
   ],
   "source": [
    "from lightning import Trainer\n",
    "from torch import nn\n",
    "from lightning.pytorch.callbacks.early_stopping import EarlyStopping\n",
    "\n",
    "model = XFeatsDynModule(learning_rate=learning_rate, loss=\"ppw_mse2\", per_pixel_weight=1e5)\n",
    "early_stopping_cb = EarlyStopping(monitor=\"train_loss_epoch\", min_delta=0.0, patience=10, mode=\"min\", verbose=False, strict=True)\n",
    "# trainer = Trainer(max_epochs=200, logger=model.tb_logger, overfit_batches=1, log_every_n_steps=1, callbacks=[early_stopping_cb])\n",
    "trainer = Trainer(max_epochs=200, logger=model.tb_logger, overfit_batches=1, log_every_n_steps=1)\n",
    "trainer.fit(model, datamodule=datamodule)\n",
    "\n"
   ]
  },
  {
   "cell_type": "code",
   "execution_count": null,
   "metadata": {},
   "outputs": [],
   "source": [
    "from lightning import Trainer\n",
    "from torch import nn\n",
    "from lightning.pytorch.callbacks.early_stopping import EarlyStopping\n",
    "\n",
    "for loss in [nn.BCELoss(),]:# nn.MSELoss(), nn.SmoothL1Loss(), nn.HuberLoss()]:\n",
    "    model = XFeatsDynModule(learning_rate=learning_rate, loss=loss)\n",
    "    early_stopping_cb = EarlyStopping(monitor=f\"train_loss_{model.loss_name}\", min_delta=0.0, patience=10, mode=\"min\", verbose=False, strict=True)\n",
    "    trainer = Trainer(max_epochs=num_epochs, logger=model.tb_logger, overfit_batches=1, log_every_n_steps=1, callbacks=[early_stopping_cb])\n",
    "    trainer.fit(model, datamodule=datamodule)\n"
   ]
  },
  {
   "cell_type": "code",
   "execution_count": null,
   "metadata": {},
   "outputs": [],
   "source": [
    "trainer.callback_metrics[\"train_loss_BCELoss\"].numpy()\n",
    "\n",
    "# predictions = trainer.predict(model, datamodule=datamodule, return_predictions=True)"
   ]
  },
  {
   "cell_type": "code",
   "execution_count": null,
   "metadata": {},
   "outputs": [],
   "source": [
    "print(predictions[0][0])"
   ]
  },
  {
   "cell_type": "code",
   "execution_count": 10,
   "metadata": {},
   "outputs": [],
   "source": [
    "import cv2\n",
    "\n",
    "def draw_kpts(ref_points, img):\n",
    "\n",
    "    # Prepare keypoints and matches for drawMatches function\n",
    "    keypoints1 = [cv2.KeyPoint(p[0], p[1], 5) for p in ref_points]\n",
    "\n",
    "    out_img = cv2.drawKeypoints(img, keypoints1, 0, color=(0, 255, 0))\n",
    "\n",
    "    return out_img\n"
   ]
  },
  {
   "cell_type": "code",
   "execution_count": null,
   "metadata": {},
   "outputs": [],
   "source": [
    "import matplotlib.pyplot as plt\n",
    "import numpy as np\n",
    "\n",
    "_, ax = plt.subplots(len(predictions[0]), 1, figsize=(120, 120))\n",
    "\n",
    "for i, pred in enumerate(predictions[0]):\n",
    "    kpts = pred[\"keypoints\"]\n",
    "    image, _ = datamodule.predict_dataset[i]\n",
    "    image = image.permute(1, 2, 0).numpy()\n",
    "    image = cv2.normalize(image, None, 0, 255, cv2.NORM_MINMAX).astype(np.uint8)\n",
    "    img = draw_kpts(kpts.detach().cpu().numpy(), image)\n",
    "    ax[i].imshow(img)\n",
    "    ax[i].axis(\"off\")\n",
    "\n",
    "plt.show()"
   ]
  },
  {
   "cell_type": "code",
   "execution_count": null,
   "metadata": {},
   "outputs": [],
   "source": [
    "a = [1,2,3,4,5]\n",
    "print(a[:None])"
   ]
  },
  {
   "cell_type": "code",
   "execution_count": null,
   "metadata": {},
   "outputs": [],
   "source": []
  }
 ],
 "metadata": {
  "kernelspec": {
   "display_name": "Python 3 (ipykernel)",
   "language": "python",
   "name": "python3"
  }
 },
 "nbformat": 4,
 "nbformat_minor": 2
}
